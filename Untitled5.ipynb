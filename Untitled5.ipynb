{
  "nbformat": 4,
  "nbformat_minor": 0,
  "metadata": {
    "colab": {
      "provenance": [],
      "authorship_tag": "ABX9TyParMFeqHkU6Bg/I0uXWfEF",
      "include_colab_link": true
    },
    "kernelspec": {
      "name": "python3",
      "display_name": "Python 3"
    },
    "language_info": {
      "name": "python"
    }
  },
  "cells": [
    {
      "cell_type": "markdown",
      "metadata": {
        "id": "view-in-github",
        "colab_type": "text"
      },
      "source": [
        "<a href=\"https://colab.research.google.com/github/shardul-ai/shardul/blob/main/Untitled5.ipynb\" target=\"_parent\"><img src=\"https://colab.research.google.com/assets/colab-badge.svg\" alt=\"Open In Colab\"/></a>"
      ]
    },
    {
      "cell_type": "code",
      "execution_count": null,
      "metadata": {
        "id": "ENrDl_oADyJp"
      },
      "outputs": [],
      "source": [
        "#Description : A simple Expense tracker"
      ]
    },
    {
      "cell_type": "code",
      "source": [
        "#Imoprt the librabries.\n",
        "import numpy as np\n",
        "import pandas as pd\n",
        "from datetime import date"
      ],
      "metadata": {
        "id": "J4YfFcgAD9Cj"
      },
      "execution_count": 40,
      "outputs": []
    },
    {
      "cell_type": "code",
      "source": [
        "#Create Empty list.\n",
        "GOODS_OR_SERVICES = []\n",
        "PRICES = []\n",
        "DATES = []\n",
        "EXPENSE_TYPE = []"
      ],
      "metadata": {
        "id": "4ND5csAiEdzU"
      },
      "execution_count": 41,
      "outputs": []
    },
    {
      "cell_type": "code",
      "source": [
        "#Create a function to add the expenses to the list and organize the data.\n",
        "def add_expense(good_or_sevice,price,date,expense_type):\n",
        "   GOODS_OR_SERVICES.append(good_or_sevice)\n",
        "   PRICES.append(price)\n",
        "   DATES.append(date)\n",
        "   EXPENSE_TYPE.append(expense_type)\n",
        "\n"
      ],
      "metadata": {
        "id": "55FmVm3DIi6A"
      },
      "execution_count": 42,
      "outputs": []
    },
    {
      "cell_type": "code",
      "source": [
        "#Main Program\n",
        "option = -1 #This will be users option.\n",
        "while(option != 0):\n",
        "  print('Welcome to the simple expense tracker:')\n",
        "  print('1. Add food Expense')\n",
        "  print('2. Add Household Expense')\n",
        "  print('3. Add Transport Expense')\n",
        "  print('4. Show and Save The Expense Report ')\n",
        "  print('0. Exit')\n",
        "  option = int(input('Choose an option:\\n'))\n",
        "\n",
        "\n",
        "  #print a new line.\n",
        "  print()\n",
        "  #Check for user option or choice or input.\n",
        "  if option == 0:\n",
        "    print('Exiting the program')\n",
        "    break\n",
        "  elif option == 1:\n",
        "     print('Adding Food')\n",
        "     expense_type = 'FOOD'\n",
        "  elif option == 2:\n",
        "    print('Adding Household')\n",
        "    expense_type = 'HOUSEHOLD'\n",
        "  elif option == 3:\n",
        "   print('Adding Transportation')\n",
        "   expense_type = 'TRANSPORTATION'\n",
        "  elif option == 4:\n",
        "  #Create a new data frame and add the expenses.\n",
        "    expense_report = pd.DataFrame()\n",
        "    expense_report['GOODS_OR_SERVICES'] = GOODS_OR_SERVICES\n",
        "    expense_report[ 'PRICES'] = PRICES\n",
        "    expense_report['DATES']  = DATES\n",
        "\n",
        "    expense_report['EXPENSE_TYPES'] = EXPENSE_TYPE\n",
        "   #Save the expense report\n",
        "    expense_report.to_csv('expense.csv')\n",
        "    #Show the expense\n",
        "    print(expense_report)\n",
        "  else:\n",
        "     print('You chose an incorrect option. Please choose 1, 2, 3 or 4')\n",
        "     #Allow the user to enter the good or service and the price\n",
        "  if option == 1 or option == 2 or option == 3 or option == 4 :\n",
        "     good_or_services = input('Enter the good or service for the expense type'+expense_type+':\\n')\n",
        "     price = float(input('Enter the price of good or service:\\n'))\n",
        "     today = date.today()\n",
        "     add_expense(good_or_service, price, today, expense_type)\n",
        "\f\n",
        "     #Print a new line\n",
        "     print()\n",
        "\n",
        "\n"
      ],
      "metadata": {
        "id": "t7WMxsLCJ18u"
      },
      "execution_count": null,
      "outputs": []
    },
    {
      "cell_type": "code",
      "source": [],
      "metadata": {
        "id": "tnNAaH18rFGf"
      },
      "execution_count": null,
      "outputs": []
    }
  ]
}